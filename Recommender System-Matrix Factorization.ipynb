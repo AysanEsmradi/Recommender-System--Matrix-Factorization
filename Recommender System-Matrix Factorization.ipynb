{
 "cells": [
  {
   "cell_type": "markdown",
   "id": "cf68828b",
   "metadata": {},
   "source": [
    "### Question 1\n",
    "Task: Find out the optimal number of latent factors respectively for \n",
    "\n",
    "Basic Matrix Factorization (PMF),\n",
    "\n",
    "SVD (adding biases),\n",
    "\n",
    "and SVD++ (adding implicit feedback).\n",
    "\n",
    "Set the number of iterations in SGD to be 30.\n",
    "\n",
    "(a) Use 3-fold cross-validation to evaluate PMF, SVD and SVD++ with different\n",
    "number of latent factors (n_factors = 60, 80, 100);\n",
    "\n",
    "(b) Summarize all the results in a table or figure and briefly describe them."
   ]
  },
  {
   "cell_type": "markdown",
   "id": "2a0f40ca",
   "metadata": {},
   "source": [
    "### (a)"
   ]
  },
  {
   "cell_type": "code",
   "execution_count": 1,
   "id": "fc3fcc18",
   "metadata": {},
   "outputs": [],
   "source": [
    "import timeit"
   ]
  },
  {
   "cell_type": "code",
   "execution_count": 2,
   "id": "63998084",
   "metadata": {},
   "outputs": [],
   "source": [
    "from surprise import Dataset\n",
    "from surprise.model_selection import train_test_split\n",
    "import pandas as pd\n",
    "from surprise import SVD\n",
    "from surprise import SVDpp\n",
    "from surprise import BaselineOnly\n",
    "from surprise import accuracy\n",
    "\n",
    "from surprise import KNNWithMeans\n",
    "from surprise.model_selection import cross_validate\n",
    "from surprise.model_selection import GridSearchCV\n",
    "\n",
    "import seaborn as sns\n",
    "import pandas as pd\n",
    "import matplotlib.pyplot as plt\n",
    "%matplotlib inline"
   ]
  },
  {
   "cell_type": "code",
   "execution_count": 3,
   "id": "269164c7",
   "metadata": {},
   "outputs": [],
   "source": [
    "# Load the dataset\n",
    "import pandas as pd\n",
    "from surprise import Reader\n",
    "from surprise import Dataset\n",
    "\n",
    "reader = Reader(rating_scale = (-10,10))\n",
    "data_df=pd.read_csv('./jester_sampled_rating.csv')\n",
    "whole_data = Dataset.load_from_df(data_df, reader=reader)"
   ]
  },
  {
   "cell_type": "code",
   "execution_count": 4,
   "id": "75533105",
   "metadata": {},
   "outputs": [],
   "source": [
    "result_list = []\n",
    "def store_result(cur_result_list, i_method, i_n_factors, i_n_epochs, i_RMSE, i_time):\n",
    "    new_result={\n",
    "        'method': i_method,\n",
    "        'n_factors': int(i_n_factors),\n",
    "        'n_epochs': int(i_n_epochs),\n",
    "        'RMSE': i_RMSE,\n",
    "        'run_time': i_time\n",
    "    }\n",
    "    cur_result_list.append(new_result)\n",
    "    \n",
    "    return cur_result_list"
   ]
  },
  {
   "cell_type": "markdown",
   "id": "1e5dfd17",
   "metadata": {},
   "source": [
    "### Basic Matrix Factorization (Probabilistic MF)"
   ]
  },
  {
   "cell_type": "code",
   "execution_count": 5,
   "id": "0fe0eb5c",
   "metadata": {},
   "outputs": [
    {
     "name": "stdout",
     "output_type": "stream",
     "text": [
      "number of factor is: 60\n",
      "Evaluating RMSE of algorithm SVD on 3 split(s).\n",
      "\n",
      "                  Fold 1  Fold 2  Fold 3  Mean    Std     \n",
      "RMSE (testset)    4.6886  4.7144  4.7056  4.7029  0.0107  \n",
      "Fit time          7.79    7.94    7.74    7.82    0.09    \n",
      "Test time         0.46    0.49    0.55    0.50    0.04    \n",
      "Run Time: 25.689251499999983\n",
      "number of factor is: 80\n",
      "Evaluating RMSE of algorithm SVD on 3 split(s).\n",
      "\n",
      "                  Fold 1  Fold 2  Fold 3  Mean    Std     \n",
      "RMSE (testset)    4.5106  4.4779  4.4556  4.4813  0.0226  \n",
      "Fit time          9.04    9.40    9.16    9.20    0.15    \n",
      "Test time         0.43    0.52    0.58    0.51    0.06    \n",
      "Run Time: 29.89176999999998\n",
      "number of factor is: 100\n",
      "Evaluating RMSE of algorithm SVD on 3 split(s).\n",
      "\n",
      "                  Fold 1  Fold 2  Fold 3  Mean    Std     \n",
      "RMSE (testset)    4.3035  4.3048  4.3184  4.3089  0.0067  \n",
      "Fit time          11.48   11.15   11.01   11.22   0.20    \n",
      "Test time         0.41    0.51    0.54    0.49    0.05    \n",
      "Run Time: 35.821342000000016\n"
     ]
    }
   ],
   "source": [
    "n_factors_list =[60, 80, 100]\n",
    "n_epochs_list = [30]\n",
    "\n",
    "method = \"SVD-basicMF\"\n",
    "mean_list_SVD_MF = []\n",
    "for n_factor in n_factors_list:\n",
    "    print(\"number of factor is:\" , n_factor)\n",
    "    for n_epoch in n_epochs_list:\n",
    "        \n",
    "        start = timeit.default_timer()\n",
    "\n",
    "        # use the famous SVD algorithm.\n",
    "        algo = SVD(n_factors=n_factor, n_epochs=n_epoch, biased=False)\n",
    "\n",
    "        results = cross_validate(algo, whole_data, measures=['RMSE'], cv=3, verbose=True)\n",
    "\n",
    "\n",
    "        stop = timeit.default_timer()\n",
    "        run_time = stop - start\n",
    "        print('Run Time:',run_time)\n",
    "\n",
    "        mean_rmse = results['test_rmse'].mean()\n",
    "        mean_list_SVD_MF.append(mean_rmse)\n",
    "\n",
    "        result_list = store_result(result_list, method, n_factor, n_epoch, mean_rmse, run_time)"
   ]
  },
  {
   "cell_type": "code",
   "execution_count": 6,
   "id": "bd3fe6ab",
   "metadata": {},
   "outputs": [
    {
     "data": {
      "text/plain": [
       "[4.702862779580592, 4.481347564107998, 4.308932906229771]"
      ]
     },
     "execution_count": 6,
     "metadata": {},
     "output_type": "execute_result"
    }
   ],
   "source": [
    "mean_list_SVD_MF"
   ]
  },
  {
   "cell_type": "markdown",
   "id": "792fadc1",
   "metadata": {},
   "source": [
    "### SVD (adding biases)"
   ]
  },
  {
   "cell_type": "code",
   "execution_count": 7,
   "id": "f386509e",
   "metadata": {},
   "outputs": [
    {
     "name": "stdout",
     "output_type": "stream",
     "text": [
      "number of factor is: 60\n",
      "Evaluating RMSE of algorithm SVD on 3 split(s).\n",
      "\n",
      "                  Fold 1  Fold 2  Fold 3  Mean    Std     \n",
      "RMSE (testset)    4.6921  4.7140  4.7044  4.7035  0.0089  \n",
      "Fit time          8.13    7.89    8.04    8.02    0.10    \n",
      "Test time         0.44    0.58    0.52    0.52    0.06    \n",
      "Run Time: 26.31738150000001\n",
      "number of factor is: 80\n",
      "Evaluating RMSE of algorithm SVD on 3 split(s).\n",
      "\n",
      "                  Fold 1  Fold 2  Fold 3  Mean    Std     \n",
      "RMSE (testset)    4.4674  4.4973  4.4973  4.4873  0.0141  \n",
      "Fit time          9.56    9.32    9.49    9.46    0.10    \n",
      "Test time         0.57    0.44    0.50    0.51    0.05    \n",
      "Run Time: 30.54463599999997\n",
      "number of factor is: 100\n",
      "Evaluating RMSE of algorithm SVD on 3 split(s).\n",
      "\n",
      "                  Fold 1  Fold 2  Fold 3  Mean    Std     \n",
      "RMSE (testset)    4.3180  4.2812  4.2884  4.2959  0.0159  \n",
      "Fit time          10.78   11.07   11.01   10.95   0.12    \n",
      "Test time         0.63    0.48    0.64    0.58    0.07    \n",
      "Run Time: 35.305612999999994\n"
     ]
    }
   ],
   "source": [
    "n_factors_list =[60, 80, 100]\n",
    "n_epochs_list = [30]\n",
    "\n",
    "method = \"SVD\"\n",
    "mean_list_SVD = []\n",
    "for n_factor in n_factors_list:\n",
    "    print(\"number of factor is:\" , n_factor)\n",
    "    for n_epoch in n_epochs_list:\n",
    "        \n",
    "        start = timeit.default_timer()\n",
    "\n",
    "        algo = SVD(n_factors=n_factor, n_epochs=n_epoch, biased=True)\n",
    "\n",
    "        results = cross_validate(algo, whole_data, measures=['RMSE'], cv=3, verbose=True)\n",
    "\n",
    "\n",
    "        stop = timeit.default_timer()\n",
    "        run_time = stop - start\n",
    "        print('Run Time:',run_time)\n",
    "\n",
    "        mean_rmse = results['test_rmse'].mean()\n",
    "        mean_list_SVD.append(mean_rmse)\n",
    "\n",
    "        result_list = store_result(result_list, method, n_factor, n_epoch, mean_rmse, run_time)"
   ]
  },
  {
   "cell_type": "code",
   "execution_count": 8,
   "id": "ddf0d3f9",
   "metadata": {},
   "outputs": [
    {
     "data": {
      "text/plain": [
       "[4.703489004572241, 4.487336290307634, 4.295867391419188]"
      ]
     },
     "execution_count": 8,
     "metadata": {},
     "output_type": "execute_result"
    }
   ],
   "source": [
    "mean_list_SVD"
   ]
  },
  {
   "cell_type": "markdown",
   "id": "e56c00f9",
   "metadata": {},
   "source": [
    "### SVD++ (adding implicit feedback)"
   ]
  },
  {
   "cell_type": "code",
   "execution_count": 9,
   "id": "46d29f05",
   "metadata": {},
   "outputs": [
    {
     "name": "stdout",
     "output_type": "stream",
     "text": [
      "number of factor is: 60\n",
      "Evaluating RMSE of algorithm SVDpp on 3 split(s).\n",
      "\n",
      "                  Fold 1  Fold 2  Fold 3  Mean    Std     \n",
      "RMSE (testset)    4.8424  4.8735  4.8846  4.8668  0.0179  \n",
      "Fit time          307.77  307.51  315.00  310.10  3.47    \n",
      "Test time         3.81    3.79    3.92    3.84    0.06    \n",
      "Run Time: 942.5469207\n",
      "number of factor is: 80\n",
      "Evaluating RMSE of algorithm SVDpp on 3 split(s).\n",
      "\n",
      "                  Fold 1  Fold 2  Fold 3  Mean    Std     \n",
      "RMSE (testset)    4.5719  4.5500  4.5786  4.5668  0.0122  \n",
      "Fit time          402.49  405.69  375.20  394.46  13.68   \n",
      "Test time         4.38    3.76    3.82    3.99    0.28    \n",
      "Run Time: 1196.1300132999997\n",
      "number of factor is: 100\n",
      "Evaluating RMSE of algorithm SVDpp on 3 split(s).\n",
      "\n",
      "                  Fold 1  Fold 2  Fold 3  Mean    Std     \n",
      "RMSE (testset)    4.3077  4.3143  4.3189  4.3136  0.0046  \n",
      "Fit time          438.08  452.04  463.59  451.24  10.43   \n",
      "Test time         3.64    3.67    3.77    3.69    0.06    \n",
      "Run Time: 1365.4449333000002\n"
     ]
    }
   ],
   "source": [
    "n_factors_list =[60, 80, 100]\n",
    "n_epochs_list = [30]\n",
    "\n",
    "method = \"SVDpp\"\n",
    "mean_list_SVDpp = []\n",
    "for n_factor in n_factors_list:\n",
    "    print(\"number of factor is:\" , n_factor)\n",
    "    for n_epoch in n_epochs_list:\n",
    "        \n",
    "        start = timeit.default_timer()\n",
    "\n",
    "        algo = SVDpp(n_factors=n_factor, n_epochs=n_epoch)\n",
    "\n",
    "        results = cross_validate(algo, whole_data, measures=['RMSE'], cv=3, verbose=True)\n",
    "\n",
    "\n",
    "        stop = timeit.default_timer()\n",
    "        run_time = stop - start\n",
    "        print('Run Time:',run_time)\n",
    "\n",
    "        mean_rmse = results['test_rmse'].mean()\n",
    "        mean_list_SVDpp.append(mean_rmse)\n",
    "\n",
    "        result_list = store_result(result_list, method, n_factor, n_epoch, mean_rmse, run_time)"
   ]
  },
  {
   "cell_type": "markdown",
   "id": "3e8b2acb",
   "metadata": {},
   "source": [
    "### (b)"
   ]
  },
  {
   "cell_type": "code",
   "execution_count": 10,
   "id": "37f127cf",
   "metadata": {},
   "outputs": [],
   "source": [
    "result_df =pd.DataFrame.from_dict(result_list)\n",
    "result_df.n_factors = result_df.n_factors.astype(str)"
   ]
  },
  {
   "cell_type": "code",
   "execution_count": 11,
   "id": "045800cc",
   "metadata": {},
   "outputs": [
    {
     "data": {
      "text/html": [
       "<div>\n",
       "<style scoped>\n",
       "    .dataframe tbody tr th:only-of-type {\n",
       "        vertical-align: middle;\n",
       "    }\n",
       "\n",
       "    .dataframe tbody tr th {\n",
       "        vertical-align: top;\n",
       "    }\n",
       "\n",
       "    .dataframe thead th {\n",
       "        text-align: right;\n",
       "    }\n",
       "</style>\n",
       "<table border=\"1\" class=\"dataframe\">\n",
       "  <thead>\n",
       "    <tr style=\"text-align: right;\">\n",
       "      <th></th>\n",
       "      <th>method</th>\n",
       "      <th>n_factors</th>\n",
       "      <th>n_epochs</th>\n",
       "      <th>RMSE</th>\n",
       "      <th>run_time</th>\n",
       "    </tr>\n",
       "  </thead>\n",
       "  <tbody>\n",
       "    <tr>\n",
       "      <th>0</th>\n",
       "      <td>SVD-basicMF</td>\n",
       "      <td>60</td>\n",
       "      <td>30</td>\n",
       "      <td>4.702863</td>\n",
       "      <td>25.689251</td>\n",
       "    </tr>\n",
       "    <tr>\n",
       "      <th>1</th>\n",
       "      <td>SVD-basicMF</td>\n",
       "      <td>80</td>\n",
       "      <td>30</td>\n",
       "      <td>4.481348</td>\n",
       "      <td>29.891770</td>\n",
       "    </tr>\n",
       "    <tr>\n",
       "      <th>2</th>\n",
       "      <td>SVD-basicMF</td>\n",
       "      <td>100</td>\n",
       "      <td>30</td>\n",
       "      <td>4.308933</td>\n",
       "      <td>35.821342</td>\n",
       "    </tr>\n",
       "    <tr>\n",
       "      <th>3</th>\n",
       "      <td>SVD</td>\n",
       "      <td>60</td>\n",
       "      <td>30</td>\n",
       "      <td>4.703489</td>\n",
       "      <td>26.317382</td>\n",
       "    </tr>\n",
       "    <tr>\n",
       "      <th>4</th>\n",
       "      <td>SVD</td>\n",
       "      <td>80</td>\n",
       "      <td>30</td>\n",
       "      <td>4.487336</td>\n",
       "      <td>30.544636</td>\n",
       "    </tr>\n",
       "    <tr>\n",
       "      <th>5</th>\n",
       "      <td>SVD</td>\n",
       "      <td>100</td>\n",
       "      <td>30</td>\n",
       "      <td>4.295867</td>\n",
       "      <td>35.305613</td>\n",
       "    </tr>\n",
       "    <tr>\n",
       "      <th>6</th>\n",
       "      <td>SVDpp</td>\n",
       "      <td>60</td>\n",
       "      <td>30</td>\n",
       "      <td>4.866837</td>\n",
       "      <td>942.546921</td>\n",
       "    </tr>\n",
       "    <tr>\n",
       "      <th>7</th>\n",
       "      <td>SVDpp</td>\n",
       "      <td>80</td>\n",
       "      <td>30</td>\n",
       "      <td>4.566837</td>\n",
       "      <td>1196.130013</td>\n",
       "    </tr>\n",
       "    <tr>\n",
       "      <th>8</th>\n",
       "      <td>SVDpp</td>\n",
       "      <td>100</td>\n",
       "      <td>30</td>\n",
       "      <td>4.313625</td>\n",
       "      <td>1365.444933</td>\n",
       "    </tr>\n",
       "  </tbody>\n",
       "</table>\n",
       "</div>"
      ],
      "text/plain": [
       "        method n_factors  n_epochs      RMSE     run_time\n",
       "0  SVD-basicMF        60        30  4.702863    25.689251\n",
       "1  SVD-basicMF        80        30  4.481348    29.891770\n",
       "2  SVD-basicMF       100        30  4.308933    35.821342\n",
       "3          SVD        60        30  4.703489    26.317382\n",
       "4          SVD        80        30  4.487336    30.544636\n",
       "5          SVD       100        30  4.295867    35.305613\n",
       "6        SVDpp        60        30  4.866837   942.546921\n",
       "7        SVDpp        80        30  4.566837  1196.130013\n",
       "8        SVDpp       100        30  4.313625  1365.444933"
      ]
     },
     "execution_count": 11,
     "metadata": {},
     "output_type": "execute_result"
    }
   ],
   "source": [
    "result_df"
   ]
  },
  {
   "cell_type": "code",
   "execution_count": 12,
   "id": "2fed4167",
   "metadata": {},
   "outputs": [
    {
     "data": {
      "image/png": "[encoded data removed]",
      "text/plain": [
       "<Figure size 432x288 with 1 Axes>"
      ]
     },
     "metadata": {
      "needs_background": "light"
     },
     "output_type": "display_data"
    }
   ],
   "source": [
    "n_factors_list =[60, 80, 100]\n",
    "plt.plot(n_factors_list,mean_list_SVD_MF,label='Probabilistic MF')\n",
    "plt.plot(n_factors_list,mean_list_SVD,label='SVD')\n",
    "plt.plot(n_factors_list,mean_list_SVDpp,label='SVDpp')\n",
    "\n",
    "plt.title('The optimal number of latent factors')\n",
    "plt.xlabel('n_factors')\n",
    "plt.ylabel('Value')\n",
    "plt.legend()\n",
    "plt.show()"
   ]
  },
  {
   "cell_type": "markdown",
   "id": "59c57aaa",
   "metadata": {},
   "source": [
    "in general, We can see that by increasing the number of latent factors, the value of RMSE decreases and it means the algorithm is more accurate.\n",
    "Also, SVD and Probabilistic MF, almost have the same RMSE in different numbers of latent factors, SVDpp has a higher RMSE at first, but in the end, it converged to the others. Run time of SVDpp is more than the other methods."
   ]
  },
  {
   "cell_type": "markdown",
   "id": "df19c4a0",
   "metadata": {},
   "source": [
    "### Question 2 \n",
    "Task: Conduct a comparison of the three matrix factorization-based methods (i.e., PMF,\n",
    "SVD, SVD++), the centered item-based kNN (with means), and a baseline (of your\n",
    "choice).\n",
    "\n",
    "(a) Use Grid Search to search for the best parameter combination for each method\n",
    "except the baseline. (You can feel free to set the parameters of your choice.);\n",
    "\n",
    "(b) Use the 5-fold cross-validation to test the best combination for each method;\n",
    "\n",
    "(c) Find out the best two methods based on the average of 5-fold cross-validation\n",
    "results, and then compare these two methods’ results through Two-Sample t-\n",
    "Test;\n",
    "\n",
    "(d) Summarize all the results using table or figure, and briefly discuss them."
   ]
  },
  {
   "cell_type": "markdown",
   "id": "0a96baeb",
   "metadata": {},
   "source": [
    "#### (a) We use: number of latent factors (n_factors=10, 20, 30) and number of iterations (n_epochs=10, 30, 50) and Grid Search (cv=3)"
   ]
  },
  {
   "cell_type": "code",
   "execution_count": 13,
   "id": "e1d1a8ee",
   "metadata": {},
   "outputs": [],
   "source": [
    "result_list = []\n",
    "def store_result(cur_result_list, i_method, i_best_param,i_rmse, i_time):\n",
    "    new_result={\n",
    "        'method': i_method,\n",
    "        'Best_patams': i_best_param,\n",
    "        'RMSE':i_rmse,\n",
    "        'run_time': i_time\n",
    "    }\n",
    "    cur_result_list.append(new_result)\n",
    "    \n",
    "    return cur_result_list"
   ]
  },
  {
   "cell_type": "markdown",
   "id": "ce628830",
   "metadata": {},
   "source": [
    "### PMF"
   ]
  },
  {
   "cell_type": "code",
   "execution_count": 14,
   "id": "242381be",
   "metadata": {},
   "outputs": [
    {
     "name": "stdout",
     "output_type": "stream",
     "text": [
      "<surprise.prediction_algorithms.matrix_factorization.SVD object at 0x0000023607C7C340>\n",
      "Evaluating RMSE of algorithm SVD on 5 split(s).\n",
      "\n",
      "                  Fold 1  Fold 2  Fold 3  Fold 4  Fold 5  Mean    Std     \n",
      "RMSE (testset)    4.0853  4.0691  4.0637  4.0156  4.0195  4.0506  0.0280  \n",
      "Fit time          1.45    1.46    1.46    1.47    1.45    1.46    0.01    \n",
      "Test time         0.22    0.22    0.22    0.21    0.30    0.23    0.04    \n"
     ]
    },
    {
     "data": {
      "text/plain": [
       "[{'method': 'Probabilistic MF',\n",
       "  'Best_patams': {'rmse': {'n_factors': 10, 'n_epochs': 10, 'biased': False}},\n",
       "  'RMSE': 4.050629728007989,\n",
       "  'run_time': 0.21625859999994645}]"
      ]
     },
     "execution_count": 14,
     "metadata": {},
     "output_type": "execute_result"
    }
   ],
   "source": [
    "start = timeit.default_timer()\n",
    "\n",
    "# Load the movielens-100k dataset\n",
    "method = \"Probabilistic MF\"\n",
    "whole_data = Dataset.load_from_df(data_df, reader=reader)\n",
    "data = whole_data\n",
    "\n",
    "param_grid ={\n",
    "        'n_factors': [10,20,30],\n",
    "        'n_epochs': [10,30,50],\n",
    "        'biased': [False],\n",
    "}\n",
    "stop = timeit.default_timer()\n",
    "run_time = stop - start\n",
    "PMF_gs = GridSearchCV(SVD, param_grid, measures=['rmse'], cv=3)\n",
    "PMF_gs.fit(data)\n",
    "PMF_based_algo = PMF_gs.best_estimator['rmse']\n",
    "\n",
    "print(PMF_based_algo)\n",
    "\n",
    "PMF_best_result = cross_validate(PMF_based_algo, data, measures=['RMSE'], cv=5, verbose=True)\n",
    "\n",
    "Best_param = PMF_gs.best_params\n",
    "mean_rmse = PMF_best_result['test_rmse'].mean()\n",
    "result_list = store_result(result_list, method,Best_param,mean_rmse,run_time)\n",
    "result_list"
   ]
  },
  {
   "cell_type": "markdown",
   "id": "ae82ef2b",
   "metadata": {},
   "source": [
    "### SVD"
   ]
  },
  {
   "cell_type": "code",
   "execution_count": 15,
   "id": "00765e26",
   "metadata": {},
   "outputs": [
    {
     "name": "stdout",
     "output_type": "stream",
     "text": [
      "<surprise.prediction_algorithms.matrix_factorization.SVD object at 0x0000023607BC5EE0>\n",
      "Evaluating RMSE of algorithm SVD on 5 split(s).\n",
      "\n",
      "                  Fold 1  Fold 2  Fold 3  Fold 4  Fold 5  Mean    Std     \n",
      "RMSE (testset)    4.0015  4.0629  4.1111  4.0715  4.0478  4.0590  0.0356  \n",
      "Fit time          1.48    1.46    1.50    1.61    1.50    1.51    0.05    \n",
      "Test time         0.35    0.27    0.31    0.34    0.28    0.31    0.03    \n"
     ]
    }
   ],
   "source": [
    "start = timeit.default_timer()\n",
    "\n",
    "# Load the movielens-100k dataset\n",
    "whole_data = Dataset.load_from_df(data_df, reader=reader)\n",
    "data = whole_data\n",
    "method = \"SVD\"\n",
    "param_grid ={\n",
    "        'n_factors': [10,20,30],\n",
    "        'n_epochs': [10,30,50],\n",
    "        'biased': [True],\n",
    "}\n",
    "stop = timeit.default_timer()\n",
    "run_time = stop - start\n",
    "SVD_gs = GridSearchCV(SVD, param_grid, measures=['rmse'], cv=3)\n",
    "SVD_gs.fit(data)\n",
    "SVD_based_algo = SVD_gs.best_estimator['rmse']\n",
    "\n",
    "print(SVD_based_algo)\n",
    "\n",
    "SVD_best_result = cross_validate(SVD_based_algo, data, measures=['RMSE'], cv=5, verbose=True)\n",
    "Best_param = SVD_gs.best_params\n",
    "mean_rmse = SVD_best_result['test_rmse'].mean()\n",
    "result_list = store_result(result_list, method,Best_param,mean_rmse,run_time)"
   ]
  },
  {
   "cell_type": "markdown",
   "id": "7025aa10",
   "metadata": {},
   "source": [
    "### SVDpp"
   ]
  },
  {
   "cell_type": "code",
   "execution_count": 16,
   "id": "2fccaad7",
   "metadata": {},
   "outputs": [
    {
     "name": "stdout",
     "output_type": "stream",
     "text": [
      "<surprise.prediction_algorithms.matrix_factorization.SVDpp object at 0x000002361C052E50>\n",
      "Evaluating RMSE of algorithm SVDpp on 5 split(s).\n",
      "\n",
      "                  Fold 1  Fold 2  Fold 3  Fold 4  Fold 5  Mean    Std     \n",
      "RMSE (testset)    4.1495  4.1058  4.0769  4.1123  4.1077  4.1104  0.0232  \n",
      "Fit time          50.48   50.75   50.43   51.80   51.49   50.99   0.55    \n",
      "Test time         2.53    2.55    2.71    2.57    2.54    2.58    0.07    \n"
     ]
    }
   ],
   "source": [
    "start = timeit.default_timer()\n",
    "\n",
    "# Load the movielens-100k dataset\n",
    "whole_data = Dataset.load_from_df(data_df, reader=reader)\n",
    "data = whole_data\n",
    "method = \"SVDpp\"\n",
    "param_grid ={\n",
    "        'n_factors': [10,20,30],\n",
    "        'n_epochs': [10,30,50],\n",
    "}\n",
    "stop = timeit.default_timer()\n",
    "run_time = stop - start\n",
    "SVDpp_gs = GridSearchCV(SVDpp, param_grid, measures=['rmse'], cv=3)\n",
    "SVDpp_gs.fit(data)\n",
    "SVDpp_based_algo = SVDpp_gs.best_estimator['rmse']\n",
    "print(SVDpp_based_algo)\n",
    "SVDpp_best_result = cross_validate(SVDpp_based_algo, data, measures=['RMSE'], cv=5, verbose=True)\n",
    "\n",
    "Best_param = SVDpp_gs.best_params\n",
    "mean_rmse = SVDpp_best_result['test_rmse'].mean()\n",
    "result_list = store_result(result_list, method,Best_param,mean_rmse,run_time)"
   ]
  },
  {
   "cell_type": "markdown",
   "id": "5d36ce0f",
   "metadata": {},
   "source": [
    "### centered item-based kNN (with means)"
   ]
  },
  {
   "cell_type": "code",
   "execution_count": 17,
   "id": "04951e59",
   "metadata": {},
   "outputs": [
    {
     "name": "stdout",
     "output_type": "stream",
     "text": [
      "Computing the cosine similarity matrix...\n"
     ]
    },
    {
     "name": "stderr",
     "output_type": "stream",
     "text": [
      "C:\\Users\\Aysan\\anaconda3\\lib\\site-packages\\surprise\\prediction_algorithms\\algo_base.py:249: RuntimeWarning: invalid value encountered in double_scalars\n",
      "  sim = construction_func[name](*args)\n"
     ]
    },
    {
     "name": "stdout",
     "output_type": "stream",
     "text": [
      "Done computing similarity matrix.\n",
      "Computing the cosine similarity matrix...\n",
      "Done computing similarity matrix.\n",
      "Computing the cosine similarity matrix...\n",
      "Done computing similarity matrix.\n",
      "Computing the pearson similarity matrix...\n",
      "Done computing similarity matrix.\n",
      "Computing the pearson similarity matrix...\n",
      "Done computing similarity matrix.\n",
      "Computing the pearson similarity matrix...\n",
      "Done computing similarity matrix.\n",
      "Computing the cosine similarity matrix...\n",
      "Done computing similarity matrix.\n",
      "Computing the cosine similarity matrix...\n",
      "Done computing similarity matrix.\n",
      "Computing the cosine similarity matrix...\n",
      "Done computing similarity matrix.\n",
      "Computing the pearson similarity matrix...\n",
      "Done computing similarity matrix.\n",
      "Computing the pearson similarity matrix...\n",
      "Done computing similarity matrix.\n",
      "Computing the pearson similarity matrix...\n",
      "Done computing similarity matrix.\n",
      "Computing the cosine similarity matrix...\n",
      "Done computing similarity matrix.\n",
      "Computing the cosine similarity matrix...\n",
      "Done computing similarity matrix.\n",
      "Computing the cosine similarity matrix...\n",
      "Done computing similarity matrix.\n",
      "Computing the pearson similarity matrix...\n",
      "Done computing similarity matrix.\n",
      "Computing the pearson similarity matrix...\n",
      "Done computing similarity matrix.\n",
      "Computing the pearson similarity matrix...\n",
      "Done computing similarity matrix.\n",
      "Computing the cosine similarity matrix...\n",
      "Done computing similarity matrix.\n",
      "Computing the cosine similarity matrix...\n",
      "Done computing similarity matrix.\n",
      "Computing the cosine similarity matrix...\n",
      "Done computing similarity matrix.\n",
      "Computing the pearson similarity matrix...\n",
      "Done computing similarity matrix.\n",
      "Computing the pearson similarity matrix...\n",
      "Done computing similarity matrix.\n",
      "Computing the pearson similarity matrix...\n",
      "Done computing similarity matrix.\n",
      "Computing the cosine similarity matrix...\n",
      "Done computing similarity matrix.\n",
      "Computing the cosine similarity matrix...\n",
      "Done computing similarity matrix.\n",
      "Computing the cosine similarity matrix...\n",
      "Done computing similarity matrix.\n",
      "Computing the pearson similarity matrix...\n",
      "Done computing similarity matrix.\n",
      "Computing the pearson similarity matrix...\n",
      "Done computing similarity matrix.\n",
      "Computing the pearson similarity matrix...\n",
      "Done computing similarity matrix.\n",
      "<surprise.prediction_algorithms.knns.KNNWithMeans object at 0x000002361D646B50>\n",
      "Computing the cosine similarity matrix...\n",
      "Done computing similarity matrix.\n",
      "Computing the cosine similarity matrix...\n",
      "Done computing similarity matrix.\n",
      "Computing the cosine similarity matrix...\n",
      "Done computing similarity matrix.\n",
      "Computing the cosine similarity matrix...\n",
      "Done computing similarity matrix.\n",
      "Computing the cosine similarity matrix...\n",
      "Done computing similarity matrix.\n",
      "Evaluating RMSE of algorithm KNNWithMeans on 5 split(s).\n",
      "\n",
      "                  Fold 1  Fold 2  Fold 3  Fold 4  Fold 5  Mean    Std     \n",
      "RMSE (testset)    3.8956  3.9101  3.9409  3.9103  3.9386  3.9191  0.0177  \n",
      "Fit time          0.87    0.88    1.00    0.89    0.90    0.91    0.05    \n",
      "Test time         3.07    3.23    3.03    3.09    3.19    3.12    0.08    \n"
     ]
    }
   ],
   "source": [
    "start = timeit.default_timer()\n",
    "\n",
    "whole_data = Dataset.load_from_df(data_df, reader=reader)\n",
    "data = whole_data\n",
    "method = \"Item based kNN\"\n",
    "\n",
    "param_grid = {'k': [10,20,30,50,90],\n",
    "              'sim_options':{\n",
    "                  'name': ['cosine','pearson'],\n",
    "                  'user_based': [False]\n",
    "                  }\n",
    "             }\n",
    "stop = timeit.default_timer()\n",
    "run_time = stop - start\n",
    "\n",
    "item_gs = GridSearchCV(KNNWithMeans, param_grid, measures=['rmse'], cv=3)\n",
    "item_gs.fit(data)\n",
    "item_based_algo = item_gs.best_estimator['rmse']\n",
    "print(item_based_algo)\n",
    "item_best_result = cross_validate(item_based_algo, data, measures=['RMSE'], cv=5, verbose=True)\n",
    "\n",
    "Best_param = item_gs.best_params\n",
    "mean_rmse = item_best_result['test_rmse'].mean()\n",
    "result_list = store_result(result_list, method,Best_param,mean_rmse,run_time)"
   ]
  },
  {
   "cell_type": "markdown",
   "id": "f6128ba8",
   "metadata": {},
   "source": [
    "### Baseline"
   ]
  },
  {
   "cell_type": "code",
   "execution_count": 18,
   "id": "3e4f1788",
   "metadata": {},
   "outputs": [
    {
     "name": "stdout",
     "output_type": "stream",
     "text": [
      "Estimating biases using als...\n",
      "Estimating biases using als...\n",
      "Estimating biases using als...\n",
      "Estimating biases using als...\n",
      "Estimating biases using als...\n",
      "Evaluating RMSE of algorithm BaselineOnly on 5 split(s).\n",
      "\n",
      "                  Fold 1  Fold 2  Fold 3  Fold 4  Fold 5  Mean    Std     \n",
      "RMSE (testset)    4.0954  4.1362  4.0359  4.1312  4.1227  4.1043  0.0370  \n",
      "Fit time          0.18    0.20    0.20    0.19    0.21    0.20    0.01    \n",
      "Test time         0.17    0.29    0.20    0.17    0.34    0.23    0.07    \n"
     ]
    }
   ],
   "source": [
    "from surprise import BaselineOnly\n",
    "\n",
    "start = timeit.default_timer()\n",
    "\n",
    "whole_data = Dataset.load_from_df(data_df, reader=reader)\n",
    "data = whole_data\n",
    "\n",
    "method = \"Baseline\"\n",
    "\n",
    "# To use baseline estimate\n",
    "algo = BaselineOnly()\n",
    "\n",
    "results = cross_validate(algo, data, measures=['RMSE'], cv=5, verbose=True)\n",
    "\n",
    "\n",
    "stop = timeit.default_timer()\n",
    "run_time = stop - start\n",
    "\n",
    "mean_rmse = results['test_rmse'].mean()\n",
    "\n",
    "result_list = store_result(result_list, method,-1,mean_rmse,run_time)\n"
   ]
  },
  {
   "cell_type": "code",
   "execution_count": 19,
   "id": "f005a4d6",
   "metadata": {},
   "outputs": [
    {
     "data": {
      "text/html": [
       "<div>\n",
       "<style scoped>\n",
       "    .dataframe tbody tr th:only-of-type {\n",
       "        vertical-align: middle;\n",
       "    }\n",
       "\n",
       "    .dataframe tbody tr th {\n",
       "        vertical-align: top;\n",
       "    }\n",
       "\n",
       "    .dataframe thead th {\n",
       "        text-align: right;\n",
       "    }\n",
       "</style>\n",
       "<table border=\"1\" class=\"dataframe\">\n",
       "  <thead>\n",
       "    <tr style=\"text-align: right;\">\n",
       "      <th></th>\n",
       "      <th>method</th>\n",
       "      <th>Best_patams</th>\n",
       "      <th>RMSE</th>\n",
       "      <th>run_time</th>\n",
       "    </tr>\n",
       "  </thead>\n",
       "  <tbody>\n",
       "    <tr>\n",
       "      <th>0</th>\n",
       "      <td>Probabilistic MF</td>\n",
       "      <td>{'rmse': {'n_factors': 10, 'n_epochs': 10, 'bi...</td>\n",
       "      <td>4.050630</td>\n",
       "      <td>0.216259</td>\n",
       "    </tr>\n",
       "    <tr>\n",
       "      <th>1</th>\n",
       "      <td>SVD</td>\n",
       "      <td>{'rmse': {'n_factors': 10, 'n_epochs': 10, 'bi...</td>\n",
       "      <td>4.058983</td>\n",
       "      <td>0.212548</td>\n",
       "    </tr>\n",
       "    <tr>\n",
       "      <th>2</th>\n",
       "      <td>SVDpp</td>\n",
       "      <td>{'rmse': {'n_factors': 10, 'n_epochs': 10}}</td>\n",
       "      <td>4.110414</td>\n",
       "      <td>0.284542</td>\n",
       "    </tr>\n",
       "    <tr>\n",
       "      <th>3</th>\n",
       "      <td>Item based kNN</td>\n",
       "      <td>{'rmse': {'k': 20, 'sim_options': {'name': 'co...</td>\n",
       "      <td>3.919092</td>\n",
       "      <td>0.340446</td>\n",
       "    </tr>\n",
       "    <tr>\n",
       "      <th>4</th>\n",
       "      <td>Baseline</td>\n",
       "      <td>-1</td>\n",
       "      <td>4.104293</td>\n",
       "      <td>3.444795</td>\n",
       "    </tr>\n",
       "  </tbody>\n",
       "</table>\n",
       "</div>"
      ],
      "text/plain": [
       "             method                                        Best_patams  \\\n",
       "0  Probabilistic MF  {'rmse': {'n_factors': 10, 'n_epochs': 10, 'bi...   \n",
       "1               SVD  {'rmse': {'n_factors': 10, 'n_epochs': 10, 'bi...   \n",
       "2             SVDpp        {'rmse': {'n_factors': 10, 'n_epochs': 10}}   \n",
       "3    Item based kNN  {'rmse': {'k': 20, 'sim_options': {'name': 'co...   \n",
       "4          Baseline                                                 -1   \n",
       "\n",
       "       RMSE  run_time  \n",
       "0  4.050630  0.216259  \n",
       "1  4.058983  0.212548  \n",
       "2  4.110414  0.284542  \n",
       "3  3.919092  0.340446  \n",
       "4  4.104293  3.444795  "
      ]
     },
     "execution_count": 19,
     "metadata": {},
     "output_type": "execute_result"
    }
   ],
   "source": [
    "result_df = pd.DataFrame.from_dict(result_list)\n",
    "result_df"
   ]
  },
  {
   "cell_type": "markdown",
   "id": "d9e4f527",
   "metadata": {},
   "source": [
    "### T-test"
   ]
  },
  {
   "cell_type": "code",
   "execution_count": 20,
   "id": "265b84da",
   "metadata": {},
   "outputs": [
    {
     "name": "stdout",
     "output_type": "stream",
     "text": [
      "Ttest_indResult(statistic=-7.951115005461734, pvalue=4.56368848223134e-05)\n"
     ]
    }
   ],
   "source": [
    "from scipy.stats import ttest_ind\n",
    "\n",
    "item_based_RMSE = item_best_result['test_rmse']\n",
    "PMF_best_RMSE = PMF_best_result['test_rmse']\n",
    "\n",
    "t_test_result = ttest_ind(item_based_RMSE,PMF_best_RMSE)\n",
    "print(t_test_result)"
   ]
  },
  {
   "cell_type": "code",
   "execution_count": 21,
   "id": "fb8a7ca9",
   "metadata": {},
   "outputs": [
    {
     "data": {
      "text/plain": [
       "(0.9, 5.0)"
      ]
     },
     "execution_count": 21,
     "metadata": {},
     "output_type": "execute_result"
    },
    {
     "data": {
      "image/png": "[encoded data removed]",
      "text/plain": [
       "<Figure size 432x288 with 1 Axes>"
      ]
     },
     "metadata": {
      "needs_background": "light"
     },
     "output_type": "display_data"
    }
   ],
   "source": [
    "fig , ax  = plt.subplots()\n",
    "sns.barplot(x ='method',y='RMSE' , data=result_df)\n",
    "ax.set_ylim(0.9,5)"
   ]
  },
  {
   "cell_type": "markdown",
   "id": "14cd9e06",
   "metadata": {},
   "source": [
    "As is shown in the table and chart, The result of item-based KNN is better than the rest and other algorithms almost have close values. Also based on the table, MF, SVD, and SVDpp have their best params at n-factor =10 and n-epochs = 10. The run time of the algorithms is also shown in the table, and SVDpp has the longer running time in compare with the SVD and MF."
   ]
  },
  {
   "cell_type": "code",
   "execution_count": null,
   "id": "01e9ee31",
   "metadata": {},
   "outputs": [],
   "source": []
  }
 ],
 "metadata": {
  "kernelspec": {
   "display_name": "Python 3 (ipykernel)",
   "language": "python",
   "name": "python3"
  },
  "language_info": {
   "codemirror_mode": {
    "name": "ipython",
    "version": 3
   },
   "file_extension": ".py",
   "mimetype": "text/x-python",
   "name": "python",
   "nbconvert_exporter": "python",
   "pygments_lexer": "ipython3",
   "version": "3.8.12"
  }
 },
 "nbformat": 4,
 "nbformat_minor": 5
}
